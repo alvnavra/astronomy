{
 "cells": [
  {
   "cell_type": "code",
   "execution_count": 23,
   "metadata": {},
   "outputs": [],
   "source": [
    "import pandas as pd"
   ]
  },
  {
   "cell_type": "code",
   "execution_count": 24,
   "metadata": {},
   "outputs": [],
   "source": [
    "df = pd.read_csv(\"/home/rafael/Harry/astronomy/maxi_LCs/MAXI_J0636+146\", sep='\\s+', header=None)"
   ]
  },
  {
   "cell_type": "code",
   "execution_count": 25,
   "metadata": {},
   "outputs": [],
   "source": [
    "new1 = df[(df > 0).all(1)]"
   ]
  },
  {
   "cell_type": "code",
   "execution_count": null,
   "metadata": {},
   "outputs": [],
   "source": []
  },
  {
   "cell_type": "code",
   "execution_count": 26,
   "metadata": {},
   "outputs": [],
   "source": [
    "from bokeh.plotting import figure\n",
    "from bokeh.io import show, output_file\n",
    "from bokeh.io.export import export_png"
   ]
  },
  {
   "cell_type": "code",
   "execution_count": 27,
   "metadata": {},
   "outputs": [],
   "source": [
    "p = figure(x_axis_label='Hardness ratio', y_axis_label='FLUX')"
   ]
  },
  {
   "cell_type": "code",
   "execution_count": 28,
   "metadata": {},
   "outputs": [
    {
     "data": {
      "text/html": [
       "<div style=\"display: table;\"><div style=\"display: table-row;\"><div style=\"display: table-cell;\"><b title=\"bokeh.models.renderers.GlyphRenderer\">GlyphRenderer</b>(</div><div style=\"display: table-cell;\">id&nbsp;=&nbsp;'0e9d7958-c7ce-47a1-a4b8-552e59fd214d', <span id=\"1475225f-1f6f-4b8c-84fc-92dffc7ffe1c\" style=\"cursor: pointer;\">&hellip;)</span></div></div><div class=\"b7260ab1-d8d6-46fb-b075-8163304e5fea\" style=\"display: none;\"><div style=\"display: table-cell;\"></div><div style=\"display: table-cell;\">data_source&nbsp;=&nbsp;ColumnDataSource(id='a67bd6e0-eeee-4a14-a3a8-2d9750469fe2', ...),</div></div><div class=\"b7260ab1-d8d6-46fb-b075-8163304e5fea\" style=\"display: none;\"><div style=\"display: table-cell;\"></div><div style=\"display: table-cell;\">glyph&nbsp;=&nbsp;Circle(id='c08b5fab-5753-48fe-b9ad-3e155c619fa1', ...),</div></div><div class=\"b7260ab1-d8d6-46fb-b075-8163304e5fea\" style=\"display: none;\"><div style=\"display: table-cell;\"></div><div style=\"display: table-cell;\">hover_glyph&nbsp;=&nbsp;None,</div></div><div class=\"b7260ab1-d8d6-46fb-b075-8163304e5fea\" style=\"display: none;\"><div style=\"display: table-cell;\"></div><div style=\"display: table-cell;\">js_event_callbacks&nbsp;=&nbsp;{},</div></div><div class=\"b7260ab1-d8d6-46fb-b075-8163304e5fea\" style=\"display: none;\"><div style=\"display: table-cell;\"></div><div style=\"display: table-cell;\">js_property_callbacks&nbsp;=&nbsp;{},</div></div><div class=\"b7260ab1-d8d6-46fb-b075-8163304e5fea\" style=\"display: none;\"><div style=\"display: table-cell;\"></div><div style=\"display: table-cell;\">level&nbsp;=&nbsp;'glyph',</div></div><div class=\"b7260ab1-d8d6-46fb-b075-8163304e5fea\" style=\"display: none;\"><div style=\"display: table-cell;\"></div><div style=\"display: table-cell;\">muted&nbsp;=&nbsp;False,</div></div><div class=\"b7260ab1-d8d6-46fb-b075-8163304e5fea\" style=\"display: none;\"><div style=\"display: table-cell;\"></div><div style=\"display: table-cell;\">muted_glyph&nbsp;=&nbsp;None,</div></div><div class=\"b7260ab1-d8d6-46fb-b075-8163304e5fea\" style=\"display: none;\"><div style=\"display: table-cell;\"></div><div style=\"display: table-cell;\">name&nbsp;=&nbsp;None,</div></div><div class=\"b7260ab1-d8d6-46fb-b075-8163304e5fea\" style=\"display: none;\"><div style=\"display: table-cell;\"></div><div style=\"display: table-cell;\">nonselection_glyph&nbsp;=&nbsp;Circle(id='200f3fd4-4ade-4915-b654-67a862a3ee4c', ...),</div></div><div class=\"b7260ab1-d8d6-46fb-b075-8163304e5fea\" style=\"display: none;\"><div style=\"display: table-cell;\"></div><div style=\"display: table-cell;\">selection_glyph&nbsp;=&nbsp;None,</div></div><div class=\"b7260ab1-d8d6-46fb-b075-8163304e5fea\" style=\"display: none;\"><div style=\"display: table-cell;\"></div><div style=\"display: table-cell;\">subscribed_events&nbsp;=&nbsp;[],</div></div><div class=\"b7260ab1-d8d6-46fb-b075-8163304e5fea\" style=\"display: none;\"><div style=\"display: table-cell;\"></div><div style=\"display: table-cell;\">tags&nbsp;=&nbsp;[],</div></div><div class=\"b7260ab1-d8d6-46fb-b075-8163304e5fea\" style=\"display: none;\"><div style=\"display: table-cell;\"></div><div style=\"display: table-cell;\">view&nbsp;=&nbsp;CDSView(id='6b63dcdd-5f01-44c5-9517-abf200b4a745', ...),</div></div><div class=\"b7260ab1-d8d6-46fb-b075-8163304e5fea\" style=\"display: none;\"><div style=\"display: table-cell;\"></div><div style=\"display: table-cell;\">visible&nbsp;=&nbsp;True,</div></div><div class=\"b7260ab1-d8d6-46fb-b075-8163304e5fea\" style=\"display: none;\"><div style=\"display: table-cell;\"></div><div style=\"display: table-cell;\">x_range_name&nbsp;=&nbsp;'default',</div></div><div class=\"b7260ab1-d8d6-46fb-b075-8163304e5fea\" style=\"display: none;\"><div style=\"display: table-cell;\"></div><div style=\"display: table-cell;\">y_range_name&nbsp;=&nbsp;'default')</div></div></div>\n",
       "<script>\n",
       "(function() {\n",
       "  var expanded = false;\n",
       "  var ellipsis = document.getElementById(\"1475225f-1f6f-4b8c-84fc-92dffc7ffe1c\");\n",
       "  ellipsis.addEventListener(\"click\", function() {\n",
       "    var rows = document.getElementsByClassName(\"b7260ab1-d8d6-46fb-b075-8163304e5fea\");\n",
       "    for (var i = 0; i < rows.length; i++) {\n",
       "      var el = rows[i];\n",
       "      el.style.display = expanded ? \"none\" : \"table-row\";\n",
       "    }\n",
       "    ellipsis.innerHTML = expanded ? \"&hellip;)\" : \"&lsaquo;&lsaquo;&lsaquo;\";\n",
       "    expanded = !expanded;\n",
       "  });\n",
       "})();\n",
       "</script>\n"
      ],
      "text/plain": [
       "bokeh.models.renderers.GlyphRenderer(\n",
       "    id='0e9d7958-c7ce-47a1-a4b8-552e59fd214d',\n",
       "    data_source=bokeh.models.sources.ColumnDataSource(\n",
       "        id='a67bd6e0-eeee-4a14-a3a8-2d9750469fe2',\n",
       "        callback=None,\n",
       "        data={'y': {'__ndarray__': 'LO+qB8xDlj/BcoQM5NmVP9UFvMywUYY/kDF3LSEfhD+GxhNBnIeTP0eRtYZSe1E/+rziqUcafD8dBvNXyFx5PygtXFZhM5A/aO22C811qj/y12SNeoiWP3bc8LvplrE/p5cYy/RLtD+8zob8M4OwP8Lgmjv6X54/MLq8OVyrpT9bC7PQzmmGP52dDI6SV6c/PUhPkUPEpT8i4uZUMgCUPwDg2LPnMoU/Xg8mxccnlD/ye5v+7EeiP4cb8PlhhJA/KvuuCP63Yj8HYAMixJWTP4jQCDauf68/UdobfGEyhT+nI4CbxYuVP7haJy7HK4A/9fBlogipez9t/8pKk1KQP2VwlLw6x6A/H0lJD0OrYz9B176AXriTP6w5QDBHj38/ejpXlBKCdT+mDYelgR+FPzo5Q3HHm4w/MKGCwwsicj/YRdEDH4N1P5jCg2bXvZU/x4SYS6q2mz8A5IQJo1mJPw==',\n",
       "          'shape': (44,),\n",
       "          'dtype': 'float64'},\n",
       "         'x': {'__ndarray__': 'oeuDK4Vz+j82BfI8w3cAQO94sSX4NkBAONxwww03C0BzG1MQ+kfnP5A65Y865RdAwdYWE7hcAEAb8lKnUNfDP2WJylh43fM/mh5JgNzyHEAM/1F07JDgP+6K/Z8G9es/Yyjx0GjBJUD9Dc8CLEH2P6HhmOifeQVAZbMdHM0Z/z+FN5o6v/YIQBQZHcaAIOc/StC6GxjS/T8R8HngKG4oQB8fRyPZBe0/G1Pp1B8hCUDEfca5r8T9P6takgffJxRAM+IUzbKC8T/AwLx4n/cSQA8DQmHR0/8/j0NTTFt+3j82urPOFvXaPzElxUYMRhJA7gjmv9Gd1T/cY8lRiu0HQEeCBrXDL9A/IQtZyEIW8j9gFmoWk738Pyfn4bPkQ9Q/UsBdoTUe2T8IR8trOhXoPyep2mPn3ixAUyRFUiRFGkBC+JGIp1/9P2QiA59iSgVAGVSdVMxW3D8y/xBcXaT/Pw==',\n",
       "          'shape': (44,),\n",
       "          'dtype': 'float64'}},\n",
       "        js_event_callbacks={},\n",
       "        js_property_callbacks={},\n",
       "        name=None,\n",
       "        selected=bokeh.models.selections.Selection(\n",
       "            id='b9e544bd-a463-4076-8321-dccb8c707ab9',\n",
       "            indices=[],\n",
       "            js_event_callbacks={},\n",
       "            js_property_callbacks={},\n",
       "            line_indices=[],\n",
       "            multiline_indices={},\n",
       "            name=None,\n",
       "            subscribed_events=[],\n",
       "            tags=[]),\n",
       "        selection_policy=bokeh.models.selections.UnionRenderers(\n",
       "            id='8db00e8f-b245-4445-9c4a-6a6060201717',\n",
       "            js_event_callbacks={},\n",
       "            js_property_callbacks={},\n",
       "            name=None,\n",
       "            subscribed_events=[],\n",
       "            tags=[]),\n",
       "        subscribed_events=[],\n",
       "        tags=[]),\n",
       "    glyph=bokeh.models.markers.Circle(\n",
       "        id='c08b5fab-5753-48fe-b9ad-3e155c619fa1',\n",
       "        angle={'value': 0.0, 'units': 'rad'},\n",
       "        fill_alpha={'value': 1.0},\n",
       "        fill_color={'value': '#1f77b4'},\n",
       "        js_event_callbacks={},\n",
       "        js_property_callbacks={},\n",
       "        line_alpha={'value': 1.0},\n",
       "        line_cap='butt',\n",
       "        line_color={'value': '#1f77b4'},\n",
       "        line_dash=[],\n",
       "        line_dash_offset=0,\n",
       "        line_join='miter',\n",
       "        line_width={'value': 1},\n",
       "        name=None,\n",
       "        radius=None,\n",
       "        radius_dimension='x',\n",
       "        size={'value': 4, 'units': 'screen'},\n",
       "        subscribed_events=[],\n",
       "        tags=[],\n",
       "        x={'field': 'x'},\n",
       "        y={'field': 'y'}),\n",
       "    hover_glyph=None,\n",
       "    js_event_callbacks={},\n",
       "    js_property_callbacks={},\n",
       "    level='glyph',\n",
       "    muted=False,\n",
       "    muted_glyph=None,\n",
       "    name=None,\n",
       "    nonselection_glyph=bokeh.models.markers.Circle(\n",
       "        id='200f3fd4-4ade-4915-b654-67a862a3ee4c',\n",
       "        angle={'value': 0.0, 'units': 'rad'},\n",
       "        fill_alpha={'value': 0.1},\n",
       "        fill_color={'value': '#1f77b4'},\n",
       "        js_event_callbacks={},\n",
       "        js_property_callbacks={},\n",
       "        line_alpha={'value': 0.1},\n",
       "        line_cap='butt',\n",
       "        line_color={'value': '#1f77b4'},\n",
       "        line_dash=[],\n",
       "        line_dash_offset=0,\n",
       "        line_join='miter',\n",
       "        line_width={'value': 1},\n",
       "        name=None,\n",
       "        radius=None,\n",
       "        radius_dimension='x',\n",
       "        size={'value': 4, 'units': 'screen'},\n",
       "        subscribed_events=[],\n",
       "        tags=[],\n",
       "        x={'field': 'x'},\n",
       "        y={'field': 'y'}),\n",
       "    selection_glyph=None,\n",
       "    subscribed_events=[],\n",
       "    tags=[],\n",
       "    view=bokeh.models.sources.CDSView(\n",
       "        id='6b63dcdd-5f01-44c5-9517-abf200b4a745',\n",
       "        filters=[],\n",
       "        js_event_callbacks={},\n",
       "        js_property_callbacks={},\n",
       "        name=None,\n",
       "        source=bokeh.models.sources.ColumnDataSource(\n",
       "            id='a67bd6e0-eeee-4a14-a3a8-2d9750469fe2',\n",
       "            callback=None,\n",
       "            data={'y': {'__ndarray__': 'LO+qB8xDlj/BcoQM5NmVP9UFvMywUYY/kDF3LSEfhD+GxhNBnIeTP0eRtYZSe1E/+rziqUcafD8dBvNXyFx5PygtXFZhM5A/aO22C811qj/y12SNeoiWP3bc8LvplrE/p5cYy/RLtD+8zob8M4OwP8Lgmjv6X54/MLq8OVyrpT9bC7PQzmmGP52dDI6SV6c/PUhPkUPEpT8i4uZUMgCUPwDg2LPnMoU/Xg8mxccnlD/ye5v+7EeiP4cb8PlhhJA/KvuuCP63Yj8HYAMixJWTP4jQCDauf68/UdobfGEyhT+nI4CbxYuVP7haJy7HK4A/9fBlogipez9t/8pKk1KQP2VwlLw6x6A/H0lJD0OrYz9B176AXriTP6w5QDBHj38/ejpXlBKCdT+mDYelgR+FPzo5Q3HHm4w/MKGCwwsicj/YRdEDH4N1P5jCg2bXvZU/x4SYS6q2mz8A5IQJo1mJPw==',\n",
       "              'shape': (44,),\n",
       "              'dtype': 'float64'},\n",
       "             'x': {'__ndarray__': 'oeuDK4Vz+j82BfI8w3cAQO94sSX4NkBAONxwww03C0BzG1MQ+kfnP5A65Y865RdAwdYWE7hcAEAb8lKnUNfDP2WJylh43fM/mh5JgNzyHEAM/1F07JDgP+6K/Z8G9es/Yyjx0GjBJUD9Dc8CLEH2P6HhmOifeQVAZbMdHM0Z/z+FN5o6v/YIQBQZHcaAIOc/StC6GxjS/T8R8HngKG4oQB8fRyPZBe0/G1Pp1B8hCUDEfca5r8T9P6takgffJxRAM+IUzbKC8T/AwLx4n/cSQA8DQmHR0/8/j0NTTFt+3j82urPOFvXaPzElxUYMRhJA7gjmv9Gd1T/cY8lRiu0HQEeCBrXDL9A/IQtZyEIW8j9gFmoWk738Pyfn4bPkQ9Q/UsBdoTUe2T8IR8trOhXoPyep2mPn3ixAUyRFUiRFGkBC+JGIp1/9P2QiA59iSgVAGVSdVMxW3D8y/xBcXaT/Pw==',\n",
       "              'shape': (44,),\n",
       "              'dtype': 'float64'}},\n",
       "            js_event_callbacks={},\n",
       "            js_property_callbacks={},\n",
       "            name=None,\n",
       "            selected=bokeh.models.selections.Selection(\n",
       "                id='b9e544bd-a463-4076-8321-dccb8c707ab9',\n",
       "                indices=[],\n",
       "                js_event_callbacks={},\n",
       "                js_property_callbacks={},\n",
       "                line_indices=[],\n",
       "                multiline_indices={},\n",
       "                name=None,\n",
       "                subscribed_events=[],\n",
       "                tags=[]),\n",
       "            selection_policy=bokeh.models.selections.UnionRenderers(\n",
       "                id='8db00e8f-b245-4445-9c4a-6a6060201717',\n",
       "                js_event_callbacks={},\n",
       "                js_property_callbacks={},\n",
       "                name=None,\n",
       "                subscribed_events=[],\n",
       "                tags=[]),\n",
       "            subscribed_events=[],\n",
       "            tags=[]),\n",
       "        subscribed_events=[],\n",
       "        tags=[]),\n",
       "    visible=True,\n",
       "    x_range_name='default',\n",
       "    y_range_name='default')"
      ]
     },
     "execution_count": 28,
     "metadata": {},
     "output_type": "execute_result"
    }
   ],
   "source": [
    "p.circle(new1[5]/(new1[3]), new1[5]+new1[3], size=4)"
   ]
  },
  {
   "cell_type": "code",
   "execution_count": 29,
   "metadata": {},
   "outputs": [],
   "source": [
    "output_file('auto-df67.html')"
   ]
  },
  {
   "cell_type": "code",
   "execution_count": 30,
   "metadata": {},
   "outputs": [],
   "source": [
    "show(p)"
   ]
  },
  {
   "cell_type": "code",
   "execution_count": 31,
   "metadata": {},
   "outputs": [],
   "source": [
    "#export_png(p,filename='auto-df67.png')"
   ]
  },
  {
   "cell_type": "code",
   "execution_count": null,
   "metadata": {},
   "outputs": [],
   "source": []
  },
  {
   "cell_type": "code",
   "execution_count": null,
   "metadata": {},
   "outputs": [],
   "source": []
  }
 ],
 "metadata": {
  "kernelspec": {
   "display_name": "Python 3",
   "language": "python",
   "name": "python3"
  },
  "language_info": {
   "codemirror_mode": {
    "name": "ipython",
    "version": 3
   },
   "file_extension": ".py",
   "mimetype": "text/x-python",
   "name": "python",
   "nbconvert_exporter": "python",
   "pygments_lexer": "ipython3",
   "version": "3.6.5"
  }
 },
 "nbformat": 4,
 "nbformat_minor": 2
}
